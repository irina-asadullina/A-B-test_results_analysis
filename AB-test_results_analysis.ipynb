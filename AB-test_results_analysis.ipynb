{
 "cells": [
  {
   "cell_type": "markdown",
   "metadata": {},
   "source": [
    "## A/B–тестирование новой механики оплаты на сайте\n",
    "\n"
   ]
  },
  {
   "cell_type": "markdown",
   "metadata": {},
   "source": [
    "В ходе тестирования одной гипотезы целевой группе была предложена новая механика оплаты услуг на сайте, у контрольной группы оставалась базовая механика. Необходимо проанализировать итоги эксперимента и сделать вывод, стоит ли запускать новую механику оплаты на всех пользователей."
   ]
  },
  {
   "cell_type": "code",
   "execution_count": 1,
   "metadata": {},
   "outputs": [],
   "source": [
    "# importing required libraries and packages\n",
    "\n",
    "import pandas as pd\n",
    "import numpy as np\n",
    "import scipy.stats as ss\n",
    "from statsmodels.stats import proportion\n",
    "import matplotlib.pyplot as plt\n",
    "import seaborn as sns\n",
    "import statsmodels.api as sm\n",
    "\n",
    "import requests\n",
    "from urllib.parse import urlencode\n",
    "\n",
    "%matplotlib inline"
   ]
  },
  {
   "cell_type": "code",
   "execution_count": 2,
   "metadata": {},
   "outputs": [],
   "source": [
    "# uploading data from Yandex with correct delimiter\n",
    "\n",
    "# getting api base key\n",
    "base_url = 'https://cloud-api.yandex.net/v1/disk/public/resources/download?'\n",
    "\n",
    "# getting each csv-file public key\n",
    "groups_public_key = 'https://disk.yandex.ru/d/UhyYx41rTt3clQ'\n",
    "experiment_users_public_key = 'https://disk.yandex.ru/d/Tbs44Bm6H_FwFQ'\n",
    "checks_public_key = 'https://disk.yandex.ru/d/pH1q-VqcxXjsVA'\n",
    "\n",
    "# getting download urls\n",
    "groups_final_url = base_url + urlencode(dict(public_key = groups_public_key))\n",
    "groups_response = requests.get(groups_final_url)\n",
    "groups_download_url = groups_response.json()['href']\n",
    "\n",
    "experiment_users_final_url = base_url + urlencode(dict(public_key = experiment_users_public_key))\n",
    "experiment_users_response = requests.get(experiment_users_final_url)\n",
    "experiment_users_download_url = experiment_users_response.json()['href']\n",
    "\n",
    "checks_final_url = base_url + urlencode(dict(public_key = checks_public_key))\n",
    "checks_response = requests.get(checks_final_url)\n",
    "checks_download_url = checks_response.json()['href']\n",
    "\n",
    "# downloading and reading files\n",
    "groups_download_response = requests.get(groups_download_url)\n",
    "experiment_users_download_response = requests.get(experiment_users_download_url)\n",
    "checks_download_response = requests.get(checks_download_url)\n",
    "\n",
    "groups = pd.read_csv(groups_download_url, sep=';') \n",
    "experiment_users = pd.read_csv(experiment_users_download_url, sep=';') \n",
    "checks = pd.read_csv(checks_download_url, sep=';') "
   ]
  },
  {
   "cell_type": "code",
   "execution_count": 3,
   "metadata": {},
   "outputs": [
    {
     "data": {
      "text/html": [
       "<div>\n",
       "<style scoped>\n",
       "    .dataframe tbody tr th:only-of-type {\n",
       "        vertical-align: middle;\n",
       "    }\n",
       "\n",
       "    .dataframe tbody tr th {\n",
       "        vertical-align: top;\n",
       "    }\n",
       "\n",
       "    .dataframe thead th {\n",
       "        text-align: right;\n",
       "    }\n",
       "</style>\n",
       "<table border=\"1\" class=\"dataframe\">\n",
       "  <thead>\n",
       "    <tr style=\"text-align: right;\">\n",
       "      <th></th>\n",
       "      <th>id</th>\n",
       "      <th>grp</th>\n",
       "    </tr>\n",
       "  </thead>\n",
       "  <tbody>\n",
       "    <tr>\n",
       "      <th>0</th>\n",
       "      <td>1489</td>\n",
       "      <td>B</td>\n",
       "    </tr>\n",
       "    <tr>\n",
       "      <th>1</th>\n",
       "      <td>1627</td>\n",
       "      <td>A</td>\n",
       "    </tr>\n",
       "    <tr>\n",
       "      <th>2</th>\n",
       "      <td>1768</td>\n",
       "      <td>B</td>\n",
       "    </tr>\n",
       "    <tr>\n",
       "      <th>3</th>\n",
       "      <td>1783</td>\n",
       "      <td>B</td>\n",
       "    </tr>\n",
       "    <tr>\n",
       "      <th>4</th>\n",
       "      <td>1794</td>\n",
       "      <td>A</td>\n",
       "    </tr>\n",
       "  </tbody>\n",
       "</table>\n",
       "</div>"
      ],
      "text/plain": [
       "     id grp\n",
       "0  1489   B\n",
       "1  1627   A\n",
       "2  1768   B\n",
       "3  1783   B\n",
       "4  1794   A"
      ]
     },
     "execution_count": 3,
     "metadata": {},
     "output_type": "execute_result"
    }
   ],
   "source": [
    "# exploring raw data\n",
    "\n",
    "groups.shape\n",
    "groups.dtypes\n",
    "groups.head()"
   ]
  },
  {
   "cell_type": "code",
   "execution_count": 4,
   "metadata": {},
   "outputs": [
    {
     "data": {
      "text/html": [
       "<div>\n",
       "<style scoped>\n",
       "    .dataframe tbody tr th:only-of-type {\n",
       "        vertical-align: middle;\n",
       "    }\n",
       "\n",
       "    .dataframe tbody tr th {\n",
       "        vertical-align: top;\n",
       "    }\n",
       "\n",
       "    .dataframe thead th {\n",
       "        text-align: right;\n",
       "    }\n",
       "</style>\n",
       "<table border=\"1\" class=\"dataframe\">\n",
       "  <thead>\n",
       "    <tr style=\"text-align: right;\">\n",
       "      <th></th>\n",
       "      <th>student_id</th>\n",
       "    </tr>\n",
       "  </thead>\n",
       "  <tbody>\n",
       "    <tr>\n",
       "      <th>0</th>\n",
       "      <td>581585</td>\n",
       "    </tr>\n",
       "    <tr>\n",
       "      <th>1</th>\n",
       "      <td>5723133</td>\n",
       "    </tr>\n",
       "    <tr>\n",
       "      <th>2</th>\n",
       "      <td>3276743</td>\n",
       "    </tr>\n",
       "    <tr>\n",
       "      <th>3</th>\n",
       "      <td>4238589</td>\n",
       "    </tr>\n",
       "    <tr>\n",
       "      <th>4</th>\n",
       "      <td>4475369</td>\n",
       "    </tr>\n",
       "  </tbody>\n",
       "</table>\n",
       "</div>"
      ],
      "text/plain": [
       "   student_id\n",
       "0      581585\n",
       "1     5723133\n",
       "2     3276743\n",
       "3     4238589\n",
       "4     4475369"
      ]
     },
     "execution_count": 4,
     "metadata": {},
     "output_type": "execute_result"
    }
   ],
   "source": [
    "experiment_users.shape\n",
    "experiment_users.dtypes\n",
    "experiment_users.head()"
   ]
  },
  {
   "cell_type": "code",
   "execution_count": 5,
   "metadata": {},
   "outputs": [
    {
     "data": {
      "text/html": [
       "<div>\n",
       "<style scoped>\n",
       "    .dataframe tbody tr th:only-of-type {\n",
       "        vertical-align: middle;\n",
       "    }\n",
       "\n",
       "    .dataframe tbody tr th {\n",
       "        vertical-align: top;\n",
       "    }\n",
       "\n",
       "    .dataframe thead th {\n",
       "        text-align: right;\n",
       "    }\n",
       "</style>\n",
       "<table border=\"1\" class=\"dataframe\">\n",
       "  <thead>\n",
       "    <tr style=\"text-align: right;\">\n",
       "      <th></th>\n",
       "      <th>student_id</th>\n",
       "      <th>rev</th>\n",
       "    </tr>\n",
       "  </thead>\n",
       "  <tbody>\n",
       "    <tr>\n",
       "      <th>0</th>\n",
       "      <td>1627</td>\n",
       "      <td>990.0</td>\n",
       "    </tr>\n",
       "    <tr>\n",
       "      <th>1</th>\n",
       "      <td>3185</td>\n",
       "      <td>690.0</td>\n",
       "    </tr>\n",
       "    <tr>\n",
       "      <th>2</th>\n",
       "      <td>25973</td>\n",
       "      <td>690.0</td>\n",
       "    </tr>\n",
       "    <tr>\n",
       "      <th>3</th>\n",
       "      <td>26280</td>\n",
       "      <td>690.0</td>\n",
       "    </tr>\n",
       "    <tr>\n",
       "      <th>4</th>\n",
       "      <td>100300</td>\n",
       "      <td>990.0</td>\n",
       "    </tr>\n",
       "  </tbody>\n",
       "</table>\n",
       "</div>"
      ],
      "text/plain": [
       "   student_id    rev\n",
       "0        1627  990.0\n",
       "1        3185  690.0\n",
       "2       25973  690.0\n",
       "3       26280  690.0\n",
       "4      100300  990.0"
      ]
     },
     "execution_count": 5,
     "metadata": {},
     "output_type": "execute_result"
    }
   ],
   "source": [
    "checks.shape\n",
    "checks.dtypes\n",
    "checks.head()"
   ]
  },
  {
   "cell_type": "code",
   "execution_count": 6,
   "metadata": {},
   "outputs": [
    {
     "data": {
      "text/plain": [
       "id     0\n",
       "grp    0\n",
       "dtype: int64"
      ]
     },
     "execution_count": 6,
     "metadata": {},
     "output_type": "execute_result"
    }
   ],
   "source": [
    "# NaN-check\n",
    "\n",
    "groups.isna().sum()"
   ]
  },
  {
   "cell_type": "code",
   "execution_count": 7,
   "metadata": {},
   "outputs": [
    {
     "data": {
      "text/plain": [
       "student_id    0\n",
       "dtype: int64"
      ]
     },
     "execution_count": 7,
     "metadata": {},
     "output_type": "execute_result"
    }
   ],
   "source": [
    "experiment_users.isna().sum()"
   ]
  },
  {
   "cell_type": "code",
   "execution_count": 8,
   "metadata": {},
   "outputs": [
    {
     "data": {
      "text/plain": [
       "student_id    0\n",
       "rev           0\n",
       "dtype: int64"
      ]
     },
     "execution_count": 8,
     "metadata": {},
     "output_type": "execute_result"
    }
   ],
   "source": [
    "checks.isna().sum()"
   ]
  },
  {
   "cell_type": "markdown",
   "metadata": {},
   "source": [
    "За основу для анализа возьмём датафрейм с пользователями, которые заходили на платформу в дни эксперимента (так как если брать за основу, например, датафрейм с чеками, мы рискуем включить в анализ тех пользователей, которые оплачивали покупки, но не заходили на платформу или оплачивали покупки, но не были включены в систему сплитования и не получили свой маркер группы).\n",
    "\n",
    "Приджойним к датафрейму с экспериментальными пользователями данные об их группах и покупках."
   ]
  },
  {
   "cell_type": "code",
   "execution_count": 9,
   "metadata": {},
   "outputs": [
    {
     "data": {
      "text/html": [
       "<div>\n",
       "<style scoped>\n",
       "    .dataframe tbody tr th:only-of-type {\n",
       "        vertical-align: middle;\n",
       "    }\n",
       "\n",
       "    .dataframe tbody tr th {\n",
       "        vertical-align: top;\n",
       "    }\n",
       "\n",
       "    .dataframe thead th {\n",
       "        text-align: right;\n",
       "    }\n",
       "</style>\n",
       "<table border=\"1\" class=\"dataframe\">\n",
       "  <thead>\n",
       "    <tr style=\"text-align: right;\">\n",
       "      <th></th>\n",
       "      <th>student_id</th>\n",
       "      <th>grp</th>\n",
       "      <th>rev</th>\n",
       "    </tr>\n",
       "  </thead>\n",
       "  <tbody>\n",
       "    <tr>\n",
       "      <th>0</th>\n",
       "      <td>581585</td>\n",
       "      <td>A</td>\n",
       "      <td>NaN</td>\n",
       "    </tr>\n",
       "    <tr>\n",
       "      <th>1</th>\n",
       "      <td>3276743</td>\n",
       "      <td>B</td>\n",
       "      <td>NaN</td>\n",
       "    </tr>\n",
       "    <tr>\n",
       "      <th>2</th>\n",
       "      <td>4238589</td>\n",
       "      <td>A</td>\n",
       "      <td>NaN</td>\n",
       "    </tr>\n",
       "    <tr>\n",
       "      <th>3</th>\n",
       "      <td>4475369</td>\n",
       "      <td>B</td>\n",
       "      <td>NaN</td>\n",
       "    </tr>\n",
       "    <tr>\n",
       "      <th>4</th>\n",
       "      <td>5481015</td>\n",
       "      <td>B</td>\n",
       "      <td>NaN</td>\n",
       "    </tr>\n",
       "  </tbody>\n",
       "</table>\n",
       "</div>"
      ],
      "text/plain": [
       "   student_id grp  rev\n",
       "0      581585   A  NaN\n",
       "1     3276743   B  NaN\n",
       "2     4238589   A  NaN\n",
       "3     4475369   B  NaN\n",
       "4     5481015   B  NaN"
      ]
     },
     "execution_count": 9,
     "metadata": {},
     "output_type": "execute_result"
    }
   ],
   "source": [
    "# merge raw data into a new dataframe \n",
    "\n",
    "experiment_data = experiment_users \\\n",
    "    .merge(groups, \n",
    "           left_on = 'student_id', \n",
    "           right_on = 'id', \n",
    "           how = 'inner')[['student_id', 'grp']] \\\n",
    "    .merge(checks, on = 'student_id', how = 'left')\n",
    "experiment_data.head()"
   ]
  },
  {
   "cell_type": "markdown",
   "metadata": {},
   "source": [
    "В качестве метрик для анализа возьмем **среднюю выручку на пользователя (ARPU)**, **средний чек (AOV)** (который в нашем случае будет равен ARPPU, что редкая ситуация на практике) и **конверсию в покупку (СR)**, так как эти метрики непосредственно влияют на объем вырученных компанией денег, а также поскольку именно эти метрики доступны нам для расчета из входных данных. **Целевой метрикой будем считать ARPU.**"
   ]
  },
  {
   "cell_type": "code",
   "execution_count": 10,
   "metadata": {},
   "outputs": [
    {
     "data": {
      "text/html": [
       "<div>\n",
       "<style scoped>\n",
       "    .dataframe tbody tr th:only-of-type {\n",
       "        vertical-align: middle;\n",
       "    }\n",
       "\n",
       "    .dataframe tbody tr th {\n",
       "        vertical-align: top;\n",
       "    }\n",
       "\n",
       "    .dataframe thead th {\n",
       "        text-align: right;\n",
       "    }\n",
       "</style>\n",
       "<table border=\"1\" class=\"dataframe\">\n",
       "  <thead>\n",
       "    <tr style=\"text-align: right;\">\n",
       "      <th></th>\n",
       "      <th>grp</th>\n",
       "      <th>revenue</th>\n",
       "      <th>students_total_cnt</th>\n",
       "      <th>paying_students_cnt</th>\n",
       "      <th>arpu</th>\n",
       "      <th>cr</th>\n",
       "      <th>aov</th>\n",
       "    </tr>\n",
       "  </thead>\n",
       "  <tbody>\n",
       "    <tr>\n",
       "      <th>0</th>\n",
       "      <td>A</td>\n",
       "      <td>72820.0000</td>\n",
       "      <td>1535</td>\n",
       "      <td>78</td>\n",
       "      <td>47.440</td>\n",
       "      <td>5.081</td>\n",
       "      <td>933.590</td>\n",
       "    </tr>\n",
       "    <tr>\n",
       "      <th>1</th>\n",
       "      <td>B</td>\n",
       "      <td>393074.0035</td>\n",
       "      <td>6793</td>\n",
       "      <td>313</td>\n",
       "      <td>57.865</td>\n",
       "      <td>4.608</td>\n",
       "      <td>1255.827</td>\n",
       "    </tr>\n",
       "  </tbody>\n",
       "</table>\n",
       "</div>"
      ],
      "text/plain": [
       "  grp      revenue  students_total_cnt  paying_students_cnt    arpu     cr  \\\n",
       "0   A   72820.0000                1535                   78  47.440  5.081   \n",
       "1   B  393074.0035                6793                  313  57.865  4.608   \n",
       "\n",
       "        aov  \n",
       "0   933.590  \n",
       "1  1255.827  "
      ]
     },
     "execution_count": 10,
     "metadata": {},
     "output_type": "execute_result"
    }
   ],
   "source": [
    "# calculating metrics by creating new column for each metric\n",
    "\n",
    "metrics_df = experiment_data \\\n",
    "    .groupby('grp', as_index = False) \\\n",
    "    .agg(revenue = ('rev', 'sum'), students_total_cnt = ('student_id', 'nunique'))\n",
    "\n",
    "metrics_df['paying_students_cnt'] = experiment_data \\\n",
    "    .dropna() \\\n",
    "    .groupby('grp', as_index = False) \\\n",
    "    .agg(students_cnt = ('student_id', 'nunique')) \\\n",
    "    .students_cnt\n",
    "\n",
    "metrics = metrics_df.assign(\n",
    "    arpu = round(metrics_df.revenue / metrics_df.students_total_cnt, 3),\n",
    "    cr = round(100 * metrics_df.paying_students_cnt / metrics_df.students_total_cnt, 3),\n",
    "    aov = round(metrics_df.revenue / metrics_df.paying_students_cnt, 3)\n",
    "    )\n",
    "metrics"
   ]
  },
  {
   "cell_type": "markdown",
   "metadata": {},
   "source": [
    "*Примечание: здесь я позволила себе для расчета среднего чека использовать количество платящих пользователей, так как в нашем случае AOV = ARPPU. Если бы наши данные были иной природы, мы бы разделяли эти две метрики и считали бы их по-разному: средний чек расчитывали бы, как выручку, деленную на количество транзакций, а ARPPU – как выручку, деленную на количество пользователей.*"
   ]
  },
  {
   "cell_type": "markdown",
   "metadata": {},
   "source": [
    "\n",
    "В результате мы видим, что несмотря на сильно различающуюся выручку в группах, \n",
    "CR контрольной группы выше, чем в тестовой. Это может быть связано с выраженной асимметрией в объеме выборок.\n",
    "В идеале я инициировала бы проверку сплит-системы, так как такие выраженные различия (почти в 4 раза) могут\n",
    "свидетельствовать о неравновероятном попадании пользователей в группы.\n",
    "\n",
    "Тем не менее, мы видим, что ARPU тестовой группы выше, чем в контроле, а также видим различия в среднем чеке. Исходя из соображения, что для компании такие различия могут оказаться существенными, будем проверять гипотезу о том, что эти метрикb в двух группах отличаются. Попутно протестируем другую гипотезу - о том, что CR в двух группах также статистически значимо различается.\n",
    "\n",
    "##### Таким образом:\n",
    "\n",
    "**Нуль-гипотеза №1**: Средние чеки в тестовой и контрольной группах не различаются.\n",
    "**Альтернативная гипотеза №1**: Средние чеки тестовой и контрольной групп статистически различаются.\n",
    "\n",
    "**Нуль-гипотеза №2**: ARPU тестовой и контрольной групп не различаются.\n",
    "**Альтернативная гипотеза №2**: ARPU тестовой и контрольной групп статистически различаются.\n",
    "\n",
    "**Нуль-гипотеза №3**: Конверсии в покупку в тестовой и контрольной группах не различаются. **Альтернативная гипотеза №3**: Конверсии в покупку в тестовой и контрольной группах статистически различаются."
   ]
  },
  {
   "cell_type": "code",
   "execution_count": 11,
   "metadata": {},
   "outputs": [],
   "source": [
    "# forming samples for analysis\n",
    "\n",
    "group_1 = experiment_data.query('grp == \"A\"').rev.fillna(0)\n",
    "\n",
    "group_2 = experiment_data.query('grp == \"B\"').rev.fillna(0)"
   ]
  },
  {
   "cell_type": "code",
   "execution_count": 12,
   "metadata": {},
   "outputs": [
    {
     "data": {
      "text/plain": [
       "<matplotlib.legend.Legend at 0x7f3596d748d0>"
      ]
     },
     "execution_count": 12,
     "metadata": {},
     "output_type": "execute_result"
    },
    {
     "data": {
      "image/png": "[encoded data removed]",
      "text/plain": [
       "<Figure size 648x432 with 1 Axes>"
      ]
     },
     "metadata": {
      "needs_background": "light"
     },
     "output_type": "display_data"
    }
   ],
   "source": [
    "# samples distribution vizualization\n",
    "# Видим сильно скошенные распределения в выборках, данные распределены ненормально, \n",
    "# что в целом ожидаемо, так как метрики обычно никогда не бывают нормально распределены\n",
    "\n",
    "plt.figure(figsize=(9,6))\n",
    "sns.histplot(group_1, bins=50, kde=True, color='blue', label='Control Group', stat='density')\n",
    "sns.histplot(group_2, bins=50, kde=True, color='green', label='Test Group', stat='density')\n",
    "plt.legend()"
   ]
  },
  {
   "cell_type": "markdown",
   "metadata": {},
   "source": [
    "### Проверка гипотезы №1\n",
    "\n",
    "Для проверки гипотезы о равенстве средних чеков воспользуемся bootstrap-анализом."
   ]
  },
  {
   "cell_type": "code",
   "execution_count": 13,
   "metadata": {},
   "outputs": [],
   "source": [
    "# forming samples for the 1st hypotesis\n",
    "# используем наши искомые выборки, но оставим только данные о совершившихся оплатах (чеках)\n",
    "\n",
    "group_1_1 = experiment_data.dropna().query('grp == \"A\"').rev\n",
    "group_2_1 = experiment_data.dropna().query('grp == \"B\"').rev"
   ]
  },
  {
   "cell_type": "code",
   "execution_count": 14,
   "metadata": {},
   "outputs": [
    {
     "name": "stdout",
     "output_type": "stream",
     "text": [
      "Разница средних: -325.61341871438356\n",
      "95% доверительный интервал: [-537.809630801794, -97.4833669269682]\n",
      "Разница статистически значима (95% доверительный интервал не включает 0)\n"
     ]
    }
   ],
   "source": [
    "# bootstrap function\n",
    "\n",
    "def bootstrap_check(grp_1, grp_2):\n",
    "    # creating list for mean diffs\n",
    "    mean_diffs = []\n",
    "    \n",
    "    # generating bootstrapped samples\n",
    "    for i in range(10000):\n",
    "        boot_1 = grp_1.sample(frac = 1, replace = True)\n",
    "        boot_2 = grp_2.sample(frac = 1, replace = True)\n",
    "        mean_diffs.append(boot_1.mean() - boot_2.mean())\n",
    "        \n",
    "    # confidence interval\n",
    "    lower = pd.Series(mean_diffs).quantile(0.025)\n",
    "    upper = pd.Series(mean_diffs).quantile(0.975)\n",
    "    \n",
    "    return np.mean(mean_diffs), lower, upper\n",
    "\n",
    "# bootstrap analysis\n",
    "mean_diff_1, lower_result_1, upper_result_1 = bootstrap_check(group_1_1, group_2_1)\n",
    "\n",
    "#results\n",
    "print(f'Разница средних: {mean_diff_1}')\n",
    "print(f'95% доверительный интервал: [{lower_result_1}, {upper_result_1}]')\n",
    "\n",
    "# interpretation \n",
    "if lower_result_1 > 0 or upper_result_1 < 0:\n",
    "    print('Разница статистически значима (95% доверительный интервал не включает 0)')\n",
    "else:\n",
    "    print('Разница статистически НЕ значима (95% доверительный интервал включает 0)')\n"
   ]
  },
  {
   "cell_type": "markdown",
   "metadata": {},
   "source": [
    "По результатам тестов видим, что уровень значимости меньше 0.05, а доверительный интервал не включает в себя 0, а значит, мы можем **отвергнуть нуль-гипотезу №1** о равенстве средних чеков в группах.\n",
    "\n",
    "**Вывод: средние чеки в двух группах отличаются.**"
   ]
  },
  {
   "cell_type": "markdown",
   "metadata": {},
   "source": [
    "### Проверка гипотезы №2\n",
    "\n",
    "Для проверки гипотезы о равенстве средней выручки на пользователя обратимся так же bootstrap, но на вход подадим неочищенные от нулей выборки, которые сформировали выше"
   ]
  },
  {
   "cell_type": "code",
   "execution_count": 15,
   "metadata": {},
   "outputs": [
    {
     "name": "stdout",
     "output_type": "stream",
     "text": [
      "Разница средних: -10.432992728252238\n",
      "95% доверительный интервал: [-26.545046867434184, 6.361027742886308]\n",
      "Разница статистически НЕ значима (95% доверительный интервал включает 0)\n"
     ]
    }
   ],
   "source": [
    "# bootstrap analysis\n",
    "mean_diff_2, lower_result_2, upper_result_2 = bootstrap_check(group_1, group_2)\n",
    "\n",
    "#results\n",
    "print(f'Разница средних: {mean_diff_2}')\n",
    "print(f'95% доверительный интервал: [{lower_result_2}, {upper_result_2}]')\n",
    "\n",
    "# interpretation \n",
    "if lower_result_2 > 0 or upper_result_2 < 0:\n",
    "    print('Разница статистически значима (95% доверительный интервал не включает 0).')\n",
    "else:\n",
    "    print('Разница статистически НЕ значима (95% доверительный интервал включает 0)')"
   ]
  },
  {
   "cell_type": "markdown",
   "metadata": {},
   "source": [
    "По результатам тестов видим, что уровень значимости выше 0.05, а доверительный интервал включает 0, а значит, мы **не можем отклонить нуль-гипотезу №2** о равенстве средней выручки на пользователя в двух группах.\n",
    "\n",
    "**Вывод: ARPU в двух группах не отличается.**\n",
    "\n",
    "Чем могут быть вызваны такие разногласия со средним чеком?\n",
    "Возможно, пользователи стали покупать на большую сумму, но при этом доход на одного пользователя не увеличился, либо стало меньше покупок на меньшую сумму."
   ]
  },
  {
   "cell_type": "markdown",
   "metadata": {},
   "source": [
    "### Проверка гипотезы №3\n",
    "\n",
    "Для проверки гипотезы о равенстве конверсий в наших выборках я использую критерий Хи-квадрат, так как переменная в данном случае – категориальная (купил / не купил)."
   ]
  },
  {
   "cell_type": "code",
   "execution_count": 16,
   "metadata": {},
   "outputs": [
    {
     "name": "stdout",
     "output_type": "stream",
     "text": [
      "Chi2 Statistic = 0.526607176998989, p-value = 0.46803677583199144\n"
     ]
    }
   ],
   "source": [
    "# calculating number of purchases and total number of users in both groups\n",
    "control_success = (group_1 > 0).sum()\n",
    "test_success = (group_2 > 0).sum()\n",
    "\n",
    "control_not_success = len(group_1) - control_success\n",
    "test_not_success = len(group_2) - test_success\n",
    "\n",
    "contingency_table = [[control_success, control_not_success],[test_success, test_not_success]]\n",
    "\n",
    "chi2_stat, p_value, dof, expected = ss.chi2_contingency(contingency_table)\n",
    "\n",
    "print(f\"Chi2 Statistic = {chi2_stat}, p-value = {p_value}\")"
   ]
  },
  {
   "cell_type": "markdown",
   "metadata": {},
   "source": [
    "Так как уровень значимости выше 0.05, мы **не можем отвергнуть нуль-гипотезу №3** о равенстве конверсий в группах.\n",
    "\n",
    "**Вывод: конверсии в двух группах не различаются.**"
   ]
  },
  {
   "cell_type": "markdown",
   "metadata": {},
   "source": [
    "#### ИТОГО:\n",
    "- Конверсия в покупку **(СR)** и средняя выручка на пользователя **(ARPU) не претерпели изменений** в связи с запуском новой механики оплаты. \n",
    "- **Средний чек** (или, в нашем случае, средняя выручка на платящего пользователя) в тестовой группе **статистически значимо вырос** по сравнению с контрольной группой. Это может быть связано с тем, что покупок на мелкие суммы стало меньше, и пользователи стали покупать на более высокие суммы.\n",
    "- Однако несмотря на этот прирост я бы **не рекомендовала выкатывать новую механику на всех пользователей**, так как целевая метрика (ARPU) не увеличилась, а значит, объем дохода не изменился, как это ни парадоксально звучит в контексте выросшего среднего чека. Более того, хоть изменения в конверсиях статистически оказались незначимы, мы видим небольшое снижение в тестовой группе. Анализ показывает, что это снижение носит случайный характер, но если брать во внимание четырёхкратную разницу в объёме выборок, я бы рекомендовала **проверить систему сплитования**, сформировать более однородные выборки и проанализировать конверсию вновь, чтобы понять, не ухудшает ли новая механика оплаты данную метрику. В этом случае конверсия выступает в качестве барьерной метрики, которая может просигнализировать о проблемах в результате эксперимента."
   ]
  },
  {
   "cell_type": "markdown",
   "metadata": {},
   "source": [
    "## Реализуем функции для обновления информации и создания графиков"
   ]
  },
  {
   "cell_type": "markdown",
   "metadata": {},
   "source": [
    "В нашем случае нам прислали дополнительный файл с информацией о пользователях `groups_add.csv`. Необходимо реализовать функцию, которая будет автоматиечски подгружать эту информацию и на основании дополнительных параметров пересчитывать метрики."
   ]
  },
  {
   "cell_type": "code",
   "execution_count": 17,
   "metadata": {},
   "outputs": [],
   "source": [
    "# выносим ссылку на новый файл в глобальное окружение, \n",
    "# чтобы иметь возможность её менять и не хардкодить функцию\n",
    "\n",
    "addition_file_public_key = 'https://disk.yandex.ru/d/5Kxrz02m3IBUwQ'\n",
    "\n",
    "def metrics_update(df_1_groups, df_2_users, df_3_checks):\n",
    "    \n",
    "    # using Yandex api to download and read additional data\n",
    "    new_final_url = base_url + urlencode(dict(public_key = addition_file_public_key)) \n",
    "    new_response = requests.get(new_final_url) \n",
    "    new_download_url = new_response.json()['href'] \n",
    "\n",
    "    new_download_response = requests.get(new_download_url) \n",
    "    groups_addition = pd.read_csv(new_download_url, sep=',') \n",
    "\n",
    "    # concatenate new data with the old one\n",
    "    groups_new = pd.concat([df_1_groups, groups_addition], ignore_index = True)\n",
    "\n",
    "    # creating new experimental dataframe by merging as we did before\n",
    "    experiment_data_new = df_2_users \\\n",
    "        .merge(groups_new, \n",
    "               left_on = 'student_id', \n",
    "               right_on = 'id', \n",
    "               how = 'inner')[['student_id', 'grp']] \\\n",
    "        .merge(df_3_checks, on = 'student_id', how = 'left')\n",
    "    \n",
    "    # recalculate every metric\n",
    "    metrics_df_new = experiment_data_new \\\n",
    "        .groupby('grp', as_index = False) \\\n",
    "        .agg(revenue = ('rev', 'sum'), \n",
    "             students_total_cnt = ('student_id', 'nunique'))\n",
    "\n",
    "    metrics_df_new['paying_students'] = experiment_data_new \\\n",
    "        .dropna() \\\n",
    "        .groupby('grp', as_index = False) \\\n",
    "        .agg(students_cnt = ('student_id', 'nunique')) \\\n",
    "        .students_cnt\n",
    "\n",
    "    metrics_new = metrics_df_new.assign(\n",
    "    arpu = round(metrics_df_new.revenue / metrics_df_new.students_total_cnt, 3),\n",
    "    cr = round(100 * metrics_df_new.paying_students / metrics_df_new.students_total_cnt, 3),\n",
    "    aov = round(metrics_df_new.revenue / metrics_df_new.paying_students, 3)\n",
    "    )\n",
    "    \n",
    "    return metrics_new"
   ]
  },
  {
   "cell_type": "markdown",
   "metadata": {},
   "source": [
    "*Примечание: пока не до конца ясно, что делать в том случае, если пришлют еще один дополнительный файл. Это делает мою функцию всё же чуть более хардкодной, чем хотелось бы. Возможно, здесь нужно реализовывать функцию с неизвестным количеством агрументов.*"
   ]
  },
  {
   "cell_type": "code",
   "execution_count": 18,
   "metadata": {},
   "outputs": [
    {
     "data": {
      "text/html": [
       "<div>\n",
       "<style scoped>\n",
       "    .dataframe tbody tr th:only-of-type {\n",
       "        vertical-align: middle;\n",
       "    }\n",
       "\n",
       "    .dataframe tbody tr th {\n",
       "        vertical-align: top;\n",
       "    }\n",
       "\n",
       "    .dataframe thead th {\n",
       "        text-align: right;\n",
       "    }\n",
       "</style>\n",
       "<table border=\"1\" class=\"dataframe\">\n",
       "  <thead>\n",
       "    <tr style=\"text-align: right;\">\n",
       "      <th></th>\n",
       "      <th>grp</th>\n",
       "      <th>revenue</th>\n",
       "      <th>students_total_cnt</th>\n",
       "      <th>paying_students</th>\n",
       "      <th>arpu</th>\n",
       "      <th>cr</th>\n",
       "      <th>aov</th>\n",
       "    </tr>\n",
       "  </thead>\n",
       "  <tbody>\n",
       "    <tr>\n",
       "      <th>0</th>\n",
       "      <td>A</td>\n",
       "      <td>72820.0000</td>\n",
       "      <td>1538</td>\n",
       "      <td>78</td>\n",
       "      <td>47.347</td>\n",
       "      <td>5.072</td>\n",
       "      <td>933.590</td>\n",
       "    </tr>\n",
       "    <tr>\n",
       "      <th>1</th>\n",
       "      <td>B</td>\n",
       "      <td>394974.0035</td>\n",
       "      <td>6803</td>\n",
       "      <td>314</td>\n",
       "      <td>58.059</td>\n",
       "      <td>4.616</td>\n",
       "      <td>1257.879</td>\n",
       "    </tr>\n",
       "  </tbody>\n",
       "</table>\n",
       "</div>"
      ],
      "text/plain": [
       "  grp      revenue  students_total_cnt  paying_students    arpu     cr  \\\n",
       "0   A   72820.0000                1538               78  47.347  5.072   \n",
       "1   B  394974.0035                6803              314  58.059  4.616   \n",
       "\n",
       "        aov  \n",
       "0   933.590  \n",
       "1  1257.879  "
      ]
     },
     "execution_count": 18,
     "metadata": {},
     "output_type": "execute_result"
    }
   ],
   "source": [
    "# checking if our function works correctly\n",
    "\n",
    "new_metrics = metrics_update(groups, experiment_users, checks)\n",
    "new_metrics"
   ]
  },
  {
   "cell_type": "markdown",
   "metadata": {},
   "source": [
    "Видим, что метрики практически не изменились ввиду того, что в анализ добавилось всего 13 человек: это те самые пользователи, которые заходили на платформу в дни проведения эксперимента, но им не была присвоена какая-либо из групп. Теперь все пользователи, участвовавшие в эксперименте, задействованы в анализе, однако на метрики это не повлияло."
   ]
  },
  {
   "cell_type": "markdown",
   "metadata": {},
   "source": [
    "Реализуем функцию, которая будет строить графики по получаемым метрикам."
   ]
  },
  {
   "cell_type": "code",
   "execution_count": 19,
   "metadata": {},
   "outputs": [],
   "source": [
    "def metrics_plots(data):\n",
    "    \n",
    "    # we'll have 3 subplots, so to avoid writing the same settings 3 times, \n",
    "    # we will use the function to customize\n",
    "    def plot_settings(ax, data, x, y, title):\n",
    "\n",
    "        # settings for each subplot\n",
    "        barplot = sns.barplot(data = data, x = x, y = y, ax = ax, palette = [\"#4B49AC\", \"#98BDFF\"])\n",
    "        ax.set_title(f'{title}\\n', fontsize = 25)\n",
    "        ax.set_xlabel(\"\")\n",
    "        ax.set_ylabel(\"\")\n",
    "        ax.tick_params(labelsize = 17)\n",
    "        sns.despine()\n",
    "\n",
    "        # set concrete value lables for each bar\n",
    "        for bar in barplot.patches:\n",
    "            height = bar.get_height()\n",
    "            ax.text(\n",
    "                bar.get_x() + bar.get_width() / 2,\n",
    "                height + (0.01 * height),\n",
    "                f\"{height:.2f}\",\n",
    "                ha = \"center\", va = \"bottom\", fontsize = 15\n",
    "                   )\n",
    "        return ax\n",
    "\n",
    "    # set subplots\n",
    "    fig, axes = plt.subplots(1, 3, figsize=(20, 10))\n",
    "\n",
    "    # create each subplot with some adjustments\n",
    "    arpu_plot = plot_settings(axes[0], data, \"grp\", \"arpu\", \"ARPU\")\n",
    "    arpu_plot.legend(('A - control group', 'B - test group'), prop = {'size': 15})\n",
    "\n",
    "    cr_plot = plot_settings(axes[1], data, \"grp\", \"cr\", \"CR\")\n",
    "    cr_plot.set_yticklabels([f\"{int(tick)}%\" for tick in cr_plot.get_yticks()])\n",
    "\n",
    "    aov_plot = plot_settings(axes[2], data, \"grp\", \"aov\", \"AOV\")\n",
    "    \n",
    "    plt.tight_layout()\n",
    "    plt.show()"
   ]
  },
  {
   "cell_type": "code",
   "execution_count": 20,
   "metadata": {},
   "outputs": [
    {
     "data": {
      "image/png": "[encoded data removed]",
      "text/plain": [
       "<Figure size 1440x720 with 3 Axes>"
      ]
     },
     "metadata": {
      "needs_background": "light"
     },
     "output_type": "display_data"
    }
   ],
   "source": [
    "# checking if our function works correctly\n",
    "\n",
    "metrics_plots(metrics)"
   ]
  },
  {
   "cell_type": "code",
   "execution_count": 21,
   "metadata": {},
   "outputs": [
    {
     "data": {
      "image/png": "[encoded data removed]",
      "text/plain": [
       "<Figure size 1440x720 with 3 Axes>"
      ]
     },
     "metadata": {
      "needs_background": "light"
     },
     "output_type": "display_data"
    }
   ],
   "source": [
    "metrics_plots(new_metrics)"
   ]
  },
  {
   "cell_type": "code",
   "execution_count": null,
   "metadata": {},
   "outputs": [],
   "source": []
  },
  {
   "cell_type": "code",
   "execution_count": null,
   "metadata": {},
   "outputs": [],
   "source": []
  }
 ],
 "metadata": {
  "kernelspec": {
   "display_name": "Python 3",
   "language": "python",
   "name": "python3"
  },
  "language_info": {
   "codemirror_mode": {
    "name": "ipython",
    "version": 3
   },
   "file_extension": ".py",
   "mimetype": "text/x-python",
   "name": "python",
   "nbconvert_exporter": "python",
   "pygments_lexer": "ipython3",
   "version": "3.7.3"
  }
 },
 "nbformat": 4,
 "nbformat_minor": 4
}
